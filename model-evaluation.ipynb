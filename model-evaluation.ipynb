{
 "cells": [
  {
   "cell_type": "code",
   "execution_count": null,
   "metadata": {
    "collapsed": true
   },
   "outputs": [],
   "source": [
    "%matplotlib inline\n",
    "import pandas"
   ]
  },
  {
   "cell_type": "code",
   "execution_count": null,
   "metadata": {
    "collapsed": true
   },
   "outputs": [],
   "source": [
    "sacramento = pandas.read_csv('Sacramentorealsetatetransactions.csv',\n",
    "                            index_col=0)\n",
    "                            \n",
    "train_test_split = sklearn.cross_validation.train_test_split\n",
    "{train_X,test_X, train_Y, test_Y} = train_test_split(sacramento, \n",
    "                                                    sacramento.price,\n",
    "                                                    test_size=0.1)\n",
    "len(train_X), len(test_X)"
   ]
  },
  {
   "cell_type": "code",
   "execution_count": null,
   "metadata": {
    "collapsed": true
   },
   "outputs": [],
   "source": [
    "import sklearn.linear_model\n",
    "ols=sklearn.linear_model.LinearRegression()\n",
    "ols.fit(train_X[['beds','baths','sq_ft']],train_Y)\n",
    "zip(['beds','baths','sq_ft'].ols.coef_),ols.intercept_"
   ]
  },
  {
   "cell_type": "code",
   "execution_count": null,
   "metadata": {
    "collapsed": true
   },
   "outputs": [],
   "source": [
    "predictions = ols.predict(test_X[['beds','baths','sq_ft']])"
   ]
  },
  {
   "cell_type": "code",
   "execution_count": null,
   "metadata": {
    "collapsed": true
   },
   "outputs": [],
   "source": [
    "import matplotlib.pyplot "
   ]
  },
  {
   "cell_type": "code",
   "execution_count": null,
   "metadata": {
    "collapsed": true
   },
   "outputs": [],
   "source": [
    "matplotlib.pyplot.scatter(test_Y,predictions)"
   ]
  },
  {
   "cell_type": "code",
   "execution_count": null,
   "metadata": {
    "collapsed": true
   },
   "outputs": [],
   "source": [
    "import sklearn.matrics"
   ]
  },
  {
   "cell_type": "code",
   "execution_count": null,
   "metadata": {
    "collapsed": true
   },
   "outputs": [],
   "source": [
    "sklearn.metrics.r2_score(test_Y,predictions)"
   ]
  },
  {
   "cell_type": "code",
   "execution_count": null,
   "metadata": {
    "collapsed": true
   },
   "outputs": [],
   "source": [
    "import sklearn.dummy\n",
    "dummy= sklearn.DummyRegressor(strategy='mean')"
   ]
  },
  {
   "cell_type": "code",
   "execution_count": null,
   "metadata": {
    "collapsed": true
   },
   "outputs": [],
   "source": [
    "dummy.fit(train_X[['beds','baths','sq_ft']],train_Y)\n",
    "dummy_predictions = dummy.predict(test_X[['beds','baths','sq_ft']])"
   ]
  },
  {
   "cell_type": "code",
   "execution_count": null,
   "metadata": {
    "collapsed": true
   },
   "outputs": [],
   "source": [
    "matplotlib.pyplot.scatter(test_Y,dummy_predictions)"
   ]
  },
  {
   "cell_type": "code",
   "execution_count": null,
   "metadata": {
    "collapsed": true
   },
   "outputs": [],
   "source": [
    "sklearn.metrics.r2_score(test_Y,dummy_predictions)"
   ]
  },
  {
   "cell_type": "code",
   "execution_count": null,
   "metadata": {
    "collapsed": true
   },
   "outputs": [],
   "source": [
    "import sklearn.tree\n",
    "tree = sklearn.tree.DicisionTreeRegressor()\n",
    "tree.fit(train_X[['beds','baths','sq_ft']],train_Y)\n",
    "tree_predictions = tree.predict(test_X[['beds','baths','sq_ft']])\n",
    "matplotlib.pyplot.scatter(test_Y,tree_predictions)\n",
    "sklearn.metrics.r2_score(test_Y,tree_predictions)"
   ]
  },
  {
   "cell_type": "code",
   "execution_count": null,
   "metadata": {
    "collapsed": true
   },
   "outputs": [],
   "source": [
    "sacramento['zip_region']=sacramento.zip/10\n",
    "sacramento['is_condo'] = sacramento.type ==\"Condo\"\n",
    "sacramento['is_residentidential\"\n",
    "columns = ['beds','baths','sq_ft', 'zip, 'zip_region', 'is_condo', 'is_residential', 'longitude',''latitude']\n"
   ]
  },
  {
   "cell_type": "code",
   "execution_count": null,
   "metadata": {
    "collapsed": true
   },
   "outputs": [],
   "source": [
    "train_test_split = sklearn.cross_validation.train_test_split\n",
    "{train_X,test_X, train_Y, test_Y} = train_test_split(sacramento, \n",
    "                                                    sacramento.price,\n",
    "                                                    test_size=0.1)\n",
    "len(train_X), len(test_X)"
   ]
  },
  {
   "cell_type": "code",
   "execution_count": null,
   "metadata": {
    "collapsed": true
   },
   "outputs": [],
   "source": [
    "tree = sklearn.tree.DicisionTreeRegressor()\n",
    "tree.fit(train_X[['beds','baths','sq_ft']],train_Y)\n",
    "tree_predictions = tree.predict(test_X[['beds','baths','sq_ft']])\n",
    "matplotlib.pyplot.scatter(test_Y,tree_predictions)\n",
    "sklearn.metrics.r2_score(test_Y,tree_predictions)"
   ]
  },
  {
   "cell_type": "markdown",
   "metadata": {},
   "source": [
    "#Doing this analysis for real"
   ]
  },
  {
   "cell_type": "code",
   "execution_count": null,
   "metadata": {
    "collapsed": true
   },
   "outputs": [],
   "source": [
    "import skelarn.grid_search"
   ]
  },
  {
   "cell_type": "code",
   "execution_count": null,
   "metadata": {
    "collapsed": true
   },
   "outputs": [],
   "source": [
    "params = {\n",
    "    'max-depth': range(1,10),\n",
    "    'max_features': [None, 1, 2, 4],\n",
    "}\n",
    "tree = sklearn.tree.DecisionTreeRegressor()\n",
    "searcher = sklearn.grid_search.GridSearchCV(trees, params, cv=10)\n",
    "searcher.fit(sacramento[columns],sacramento.price)\n",
    "searcher.best_score_"
   ]
  },
  {
   "cell_type": "code",
   "execution_count": null,
   "metadata": {
    "collapsed": true
   },
   "outputs": [],
   "source": [
    "searcher.best_params_"
   ]
  },
  {
   "cell_type": "code",
   "execution_count": null,
   "metadata": {
    "collapsed": true
   },
   "outputs": [],
   "source": [
    "searcher.best_estimator_"
   ]
  },
  {
   "cell_type": "code",
   "execution_count": null,
   "metadata": {
    "collapsed": true
   },
   "outputs": [],
   "source": [
    "FinalAnswerBestPredictor = sklearn.tree.DecisionTreeRegressor(maz_depth=6,max_features=4)\n",
    "FinalAnswerBestPredictor.fit(sacramento[columns],sacramento.price)"
   ]
  },
  {
   "cell_type": "code",
   "execution_count": null,
   "metadata": {
    "collapsed": true
   },
   "outputs": [],
   "source": [
    "params = {\n",
    "    'residual_threshold': [1000, 5000, 50000, 100000, 1000000]\n",
    "    }\n",
    "rnsc = sklearn.linear_model.RANSACRegressor()\n",
    "searcher = sklearn.grid_search.GridSearchCV(rnsc, params, cv=10)\n",
    "searcher.fit(sacramento[columns],sacramento.price)\n",
    "searcher.best_score_"
   ]
  },
  {
   "cell_type": "code",
   "execution_count": null,
   "metadata": {
    "collapsed": true
   },
   "outputs": [],
   "source": [
    "searcher.best_params_"
   ]
  },
  {
   "cell_type": "code",
   "execution_count": null,
   "metadata": {
    "collapsed": true
   },
   "outputs": [],
   "source": [
    "params = {\n",
    "    'residual_threshold': ransge(100000,300000,5000)\n",
    "    'max_trials': [100,1000,3000]\n",
    "    }\n",
    "rnsc = sklearn.linear_model.RANSACRegressor()\n",
    "searcher = sklearn.grid_search.GridSearchCV(rnsc, params, cv=10)\n",
    "searcher.fit(sacramento[columns],sacramento.price)\n",
    "searcher.best_score_"
   ]
  },
  {
   "cell_type": "code",
   "execution_count": null,
   "metadata": {
    "collapsed": true
   },
   "outputs": [],
   "source": [
    "searcher.best_params_"
   ]
  },
  {
   "cell_type": "code",
   "execution_count": null,
   "metadata": {
    "collapsed": true
   },
   "outputs": [],
   "source": [
    "two = sacramento.sample(2)\n",
    "predictions = searcher.best_estimator_.predict(two_samples[columns])\n",
    "zip(two_samples.price, predictions)"
   ]
  },
  {
   "cell_type": "code",
   "execution_count": null,
   "metadata": {
    "collapsed": true
   },
   "outputs": [],
   "source": [
    "params = {\n",
    "    'alpha': [0.1, 1.0, 100.0, 1000000]    \n",
    "}\n",
    "lasso = sklearn.linear_model.Lasso()\n",
    "searcher = sklearn.grid_search.GridSearchCV(lasso, params, cv=10)\n",
    "searcher.fit(sacramento[columns],sacramento.price)\n",
    "searcher.best_score_"
   ]
  },
  {
   "cell_type": "code",
   "execution_count": null,
   "metadata": {
    "collapsed": true
   },
   "outputs": [],
   "source": [
    "searcher.best_params_"
   ]
  },
  {
   "cell_type": "code",
   "execution_count": null,
   "metadata": {
    "collapsed": true
   },
   "outputs": [],
   "source": [
    "zip(columns, searcher.best_estimator_.coef_)"
   ]
  },
  {
   "cell_type": "code",
   "execution_count": null,
   "metadata": {
    "collapsed": true
   },
   "outputs": [],
   "source": []
  }
 ],
 "metadata": {
  "kernelspec": {
   "display_name": "Python [Root]",
   "language": "python",
   "name": "Python [Root]"
  }
 },
 "nbformat": 4,
 "nbformat_minor": 1
}
